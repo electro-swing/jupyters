{
 "cells": [
  {
   "cell_type": "markdown",
   "metadata": {},
   "source": [
    "## Probability of dying where I come from \n",
    "  \n",
    "    "
   ]
  },
  {
   "cell_type": "raw",
   "metadata": {},
   "source": [
    "Let me just quickly load the data. \n",
    "  \n",
    "  "
   ]
  },
  {
   "cell_type": "code",
   "execution_count": 102,
   "metadata": {},
   "outputs": [],
   "source": [
    "from __future__ import print_function # will need these to ask about age\n",
    "from ipywidgets import interact, interactive, fixed, interact_manual\n",
    "import ipywidgets as widgets\n",
    "\n",
    "import pandas as pd\n",
    "import matplotlib.pyplot as plt    # will need this\n",
    "%matplotlib inline                 \n",
    "import seaborn as sns               # will need this\n",
    "import numpy as np                 # will probably not need this, shall check\n",
    "\n"
   ]
  },
  {
   "cell_type": "code",
   "execution_count": 103,
   "metadata": {},
   "outputs": [],
   "source": [
    "excel_file = 'mort_data.xlsx'\n",
    "mort_data = pd.read_excel(excel_file)"
   ]
  },
  {
   "cell_type": "code",
   "execution_count": 104,
   "metadata": {},
   "outputs": [
    {
     "data": {
      "text/html": [
       "<div>\n",
       "<style scoped>\n",
       "    .dataframe tbody tr th:only-of-type {\n",
       "        vertical-align: middle;\n",
       "    }\n",
       "\n",
       "    .dataframe tbody tr th {\n",
       "        vertical-align: top;\n",
       "    }\n",
       "\n",
       "    .dataframe thead th {\n",
       "        text-align: right;\n",
       "    }\n",
       "</style>\n",
       "<table border=\"1\" class=\"dataframe\">\n",
       "  <thead>\n",
       "    <tr style=\"text-align: right;\">\n",
       "      <th></th>\n",
       "      <th>Age</th>\n",
       "      <th>Sex</th>\n",
       "      <th>Lx</th>\n",
       "      <th>Tx</th>\n",
       "      <th>lx</th>\n",
       "      <th>dx</th>\n",
       "      <th>qx</th>\n",
       "      <th>ex</th>\n",
       "    </tr>\n",
       "  </thead>\n",
       "  <tbody>\n",
       "    <tr>\n",
       "      <th>0</th>\n",
       "      <td>0</td>\n",
       "      <td>m</td>\n",
       "      <td>68914.0</td>\n",
       "      <td>481.0</td>\n",
       "      <td>100000</td>\n",
       "      <td>698</td>\n",
       "      <td>0.006980</td>\n",
       "      <td>71.96</td>\n",
       "    </tr>\n",
       "    <tr>\n",
       "      <th>1</th>\n",
       "      <td>1</td>\n",
       "      <td>m</td>\n",
       "      <td>69476.0</td>\n",
       "      <td>38.0</td>\n",
       "      <td>99302</td>\n",
       "      <td>54</td>\n",
       "      <td>0.000544</td>\n",
       "      <td>71.46</td>\n",
       "    </tr>\n",
       "    <tr>\n",
       "      <th>2</th>\n",
       "      <td>2</td>\n",
       "      <td>m</td>\n",
       "      <td>69278.0</td>\n",
       "      <td>21.0</td>\n",
       "      <td>99248</td>\n",
       "      <td>30</td>\n",
       "      <td>0.000302</td>\n",
       "      <td>70.50</td>\n",
       "    </tr>\n",
       "    <tr>\n",
       "      <th>3</th>\n",
       "      <td>3</td>\n",
       "      <td>m</td>\n",
       "      <td>68570.0</td>\n",
       "      <td>13.0</td>\n",
       "      <td>99218</td>\n",
       "      <td>19</td>\n",
       "      <td>0.000191</td>\n",
       "      <td>69.52</td>\n",
       "    </tr>\n",
       "    <tr>\n",
       "      <th>4</th>\n",
       "      <td>4</td>\n",
       "      <td>m</td>\n",
       "      <td>69013.0</td>\n",
       "      <td>5.0</td>\n",
       "      <td>99199</td>\n",
       "      <td>7</td>\n",
       "      <td>0.000071</td>\n",
       "      <td>68.54</td>\n",
       "    </tr>\n",
       "  </tbody>\n",
       "</table>\n",
       "</div>"
      ],
      "text/plain": [
       "   Age Sex       Lx     Tx      lx   dx        qx     ex\n",
       "0    0   m  68914.0  481.0  100000  698  0.006980  71.96\n",
       "1    1   m  69476.0   38.0   99302   54  0.000544  71.46\n",
       "2    2   m  69278.0   21.0   99248   30  0.000302  70.50\n",
       "3    3   m  68570.0   13.0   99218   19  0.000191  69.52\n",
       "4    4   m  69013.0    5.0   99199    7  0.000071  68.54"
      ]
     },
     "execution_count": 104,
     "metadata": {},
     "output_type": "execute_result"
    }
   ],
   "source": [
    "mort_data.head()"
   ]
  },
  {
   "cell_type": "code",
   "execution_count": 105,
   "metadata": {},
   "outputs": [
    {
     "data": {
      "text/html": [
       "<div>\n",
       "<style scoped>\n",
       "    .dataframe tbody tr th:only-of-type {\n",
       "        vertical-align: middle;\n",
       "    }\n",
       "\n",
       "    .dataframe tbody tr th {\n",
       "        vertical-align: top;\n",
       "    }\n",
       "\n",
       "    .dataframe thead th {\n",
       "        text-align: right;\n",
       "    }\n",
       "</style>\n",
       "<table border=\"1\" class=\"dataframe\">\n",
       "  <thead>\n",
       "    <tr style=\"text-align: right;\">\n",
       "      <th></th>\n",
       "      <th>Age</th>\n",
       "      <th>Sex</th>\n",
       "      <th>Lx</th>\n",
       "      <th>Tx</th>\n",
       "      <th>lx</th>\n",
       "      <th>dx</th>\n",
       "      <th>qx</th>\n",
       "      <th>ex</th>\n",
       "    </tr>\n",
       "  </thead>\n",
       "  <tbody>\n",
       "    <tr>\n",
       "      <th>197</th>\n",
       "      <td>96</td>\n",
       "      <td>f</td>\n",
       "      <td>703.0</td>\n",
       "      <td>221.0</td>\n",
       "      <td>969</td>\n",
       "      <td>446</td>\n",
       "      <td>0.460268</td>\n",
       "      <td>1.46</td>\n",
       "    </tr>\n",
       "    <tr>\n",
       "      <th>198</th>\n",
       "      <td>97</td>\n",
       "      <td>f</td>\n",
       "      <td>551.0</td>\n",
       "      <td>199.0</td>\n",
       "      <td>523</td>\n",
       "      <td>267</td>\n",
       "      <td>0.510516</td>\n",
       "      <td>1.28</td>\n",
       "    </tr>\n",
       "    <tr>\n",
       "      <th>199</th>\n",
       "      <td>98</td>\n",
       "      <td>f</td>\n",
       "      <td>366.0</td>\n",
       "      <td>129.0</td>\n",
       "      <td>256</td>\n",
       "      <td>145</td>\n",
       "      <td>0.566406</td>\n",
       "      <td>1.09</td>\n",
       "    </tr>\n",
       "    <tr>\n",
       "      <th>200</th>\n",
       "      <td>99</td>\n",
       "      <td>f</td>\n",
       "      <td>219.0</td>\n",
       "      <td>76.0</td>\n",
       "      <td>111</td>\n",
       "      <td>70</td>\n",
       "      <td>0.630631</td>\n",
       "      <td>0.87</td>\n",
       "    </tr>\n",
       "    <tr>\n",
       "      <th>201</th>\n",
       "      <td>100</td>\n",
       "      <td>f</td>\n",
       "      <td>NaN</td>\n",
       "      <td>NaN</td>\n",
       "      <td>41</td>\n",
       "      <td>41</td>\n",
       "      <td>1.000000</td>\n",
       "      <td>0.50</td>\n",
       "    </tr>\n",
       "  </tbody>\n",
       "</table>\n",
       "</div>"
      ],
      "text/plain": [
       "     Age Sex     Lx     Tx   lx   dx        qx    ex\n",
       "197   96   f  703.0  221.0  969  446  0.460268  1.46\n",
       "198   97   f  551.0  199.0  523  267  0.510516  1.28\n",
       "199   98   f  366.0  129.0  256  145  0.566406  1.09\n",
       "200   99   f  219.0   76.0  111   70  0.630631  0.87\n",
       "201  100   f    NaN    NaN   41   41  1.000000  0.50"
      ]
     },
     "execution_count": 105,
     "metadata": {},
     "output_type": "execute_result"
    }
   ],
   "source": [
    "mort_data.tail()"
   ]
  },
  {
   "cell_type": "code",
   "execution_count": 106,
   "metadata": {},
   "outputs": [
    {
     "data": {
      "text/plain": [
       "Index(['Age', 'Sex', 'Lx', 'Tx', 'lx', 'dx', 'qx', 'ex'], dtype='object')"
      ]
     },
     "execution_count": 106,
     "metadata": {},
     "output_type": "execute_result"
    }
   ],
   "source": [
    "mort_data.columns"
   ]
  },
  {
   "cell_type": "markdown",
   "metadata": {},
   "source": [
    "The meanings of the column titles are the: \n",
    "  \n",
    "Lx: number of people of certain age #the data are coming from census  \n",
    "Tx: number of people of ceratin age who died within last 12 months (?) #the data are coming from census\n",
    "lx: number of living people of certain age (starting from 100000, smoothed)  \n",
    "dx: number of people of certain age expected to die  \n",
    "qx: probability of death (smoothed)  \n",
    "ex: number of additional years that a person of certain age is expected to live (average)"
   ]
  },
  {
   "cell_type": "code",
   "execution_count": 107,
   "metadata": {},
   "outputs": [],
   "source": [
    "Lx=mort_data['Lx'].tolist()\n",
    "age_raw=mort_data['Age'].tolist()\n",
    "\n",
    "men_raw = Lx[:len(Lx)//2]\n",
    "women = Lx[len(Lx)//2:]\n",
    "men = [x * (-1) for x in men_raw]\n",
    "age=age_raw[:len(Lx)//2]\n"
   ]
  },
  {
   "cell_type": "markdown",
   "metadata": {},
   "source": [
    "This would be the population pyramid from my country:\n",
    "  "
   ]
  },
  {
   "cell_type": "code",
   "execution_count": 108,
   "metadata": {},
   "outputs": [
    {
     "data": {
      "image/png": "[encoded data removed]",
      "text/plain": [
       "<Figure size 432x288 with 1 Axes>"
      ]
     },
     "metadata": {},
     "output_type": "display_data"
    }
   ],
   "source": [
    "sns.set_style(\"whitegrid\")\n",
    "sns.color_palette(\"RdBu\")  #, n_colors=4\n",
    "\n",
    "pm=bar_plot=sns.barplot (y=men, x=age, data=mort_data, label=\"men\")\n",
    "pw=bar_plot=sns.barplot (y=women, x=age, data=mort_data, label=\"women\")\n",
    "pm.set(xlabel=\"Population\", ylabel=\"Age\", title = \"Population Pyramid\")\n",
    "\n",
    "pm.set(ylabel='men           women')  #is this acceptable as a solution? pure trickery :)\n",
    "\n",
    "\n",
    "# pm.set(yticks=[-100000,-50000]) \n",
    "# pw.set(yticks=[50000,100000])\n",
    "\n",
    "\n",
    "for label in pm.get_xticklabels():\n",
    "    if np.int(label.get_text()) % 10 == 0:  \n",
    "        label.set_visible(True)\n",
    "    else:\n",
    "        label.set_visible(False)\n",
    "for label in pw.get_xticklabels():\n",
    "    if np.int(label.get_text()) % 10 == 0:  \n",
    "        label.set_visible(True)\n",
    "    else:\n",
    "        label.set_visible(False)"
   ]
  },
  {
   "cell_type": "code",
   "execution_count": null,
   "metadata": {},
   "outputs": [],
   "source": []
  },
  {
   "cell_type": "markdown",
   "metadata": {},
   "source": [
    "So.  Back to the more important stuff.     \n",
    "What is your probability of dying then?  \n",
    "  \n",
    "  \n",
    "Choose your age on the slider. # still need to add the sex. For now you are female :).\n",
    "  "
   ]
  },
  {
   "cell_type": "code",
   "execution_count": 109,
   "metadata": {},
   "outputs": [
    {
     "data": {
      "application/vnd.jupyter.widget-view+json": {
       "model_id": "11d8eb252d6b4faaa780cd02b2038aee",
       "version_major": 2,
       "version_minor": 0
      },
      "text/plain": [
       "interactive(children=(IntSlider(value=40, description='x'), Output()), _dom_classes=('widget-interact',))"
      ]
     },
     "metadata": {},
     "output_type": "display_data"
    }
   ],
   "source": [
    "output_slider_variable = widgets.Text()\n",
    "\n",
    "def f(x):\n",
    "    output_slider_variable.value = str(x)\n",
    "\n",
    "# interact(f, x=40);  ---> automatic slider is constructed with a range of [−10,+3×10]\n",
    "interact(f, x=widgets.IntSlider(min=0,max=100,step=1,value=40));"
   ]
  },
  {
   "cell_type": "code",
   "execution_count": 110,
   "metadata": {},
   "outputs": [
    {
     "data": {
      "text/plain": [
       "'40'"
      ]
     },
     "execution_count": 110,
     "metadata": {},
     "output_type": "execute_result"
    }
   ],
   "source": [
    "output_slider_variable.value"
   ]
  },
  {
   "cell_type": "code",
   "execution_count": 111,
   "metadata": {},
   "outputs": [],
   "source": [
    "the_age = [int(output_slider_variable.value)]    #workaround, as for some reason, df.query won't work with anything but lists"
   ]
  },
  {
   "cell_type": "code",
   "execution_count": 112,
   "metadata": {},
   "outputs": [
    {
     "data": {
      "text/plain": [
       "0.0012031853823172534"
      ]
     },
     "execution_count": 112,
     "metadata": {},
     "output_type": "execute_result"
    }
   ],
   "source": [
    "mort_data.query('Age == @the_age and Sex == \"f\"').iat[0,6]"
   ]
  },
  {
   "cell_type": "code",
   "execution_count": null,
   "metadata": {},
   "outputs": [],
   "source": []
  },
  {
   "cell_type": "code",
   "execution_count": null,
   "metadata": {},
   "outputs": [],
   "source": []
  },
  {
   "cell_type": "code",
   "execution_count": null,
   "metadata": {},
   "outputs": [],
   "source": []
  }
 ],
 "metadata": {
  "kernelspec": {
   "display_name": "Python 3",
   "language": "python",
   "name": "python3"
  },
  "language_info": {
   "codemirror_mode": {
    "name": "ipython",
    "version": 3
   },
   "file_extension": ".py",
   "mimetype": "text/x-python",
   "name": "python",
   "nbconvert_exporter": "python",
   "pygments_lexer": "ipython3",
   "version": "3.7.1"
  }
 },
 "nbformat": 4,
 "nbformat_minor": 2
}
